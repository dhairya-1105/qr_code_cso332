{
 "cells": [
  {
   "cell_type": "markdown",
   "id": "e212aa0c",
   "metadata": {},
   "source": [
    "## Pipeline-1: Setup DB + Encrypted QR Generation"
   ]
  },
  {
   "cell_type": "code",
   "execution_count": 27,
   "id": "9249640f",
   "metadata": {},
   "outputs": [],
   "source": [
    "import sqlite3, os, base64, secrets, qrcode, json\n",
    "from cryptography.hazmat.primitives.ciphers.aead import AESGCM"
   ]
  },
  {
   "cell_type": "code",
   "execution_count": 28,
   "id": "8a223002",
   "metadata": {},
   "outputs": [
    {
     "name": "stdout",
     "output_type": "stream",
     "text": [
      "b'\\x16\\xb3z\\xfc>\\xfa2\\xf5\\xe1T\\xc3/!\\x95\\xcbq\\x07\\xde\\xd3;\\xad\\x9bJ\\xe3^\\x04\\x0ca\\xd5\\x86f\\x83'\n"
     ]
    }
   ],
   "source": [
    "KEY = os.urandom(32)  # AES-256 key; reuse same key for all QRs in this prototype\n",
    "# Note : This key is to be kept secret!\n",
    "print(KEY)"
   ]
  },
  {
   "cell_type": "code",
   "execution_count": 29,
   "id": "931c60d6",
   "metadata": {},
   "outputs": [],
   "source": [
    "def encrypt_token(token : str) -> str:\n",
    "    aesgcm = AESGCM(KEY)\n",
    "    iv = os.urandom(12) # initialization vector\n",
    "    ct = aesgcm.encrypt(iv, token.encode(), b\"college-qr-v1\")  # ciphertext+tag\n",
    "    blob = base64.urlsafe_b64encode(iv + ct).decode().rstrip(\"=\")\n",
    "    return blob"
   ]
  },
  {
   "cell_type": "code",
   "execution_count": 59,
   "id": "19d924a4",
   "metadata": {},
   "outputs": [
    {
     "data": {
      "text/plain": [
       "<sqlite3.Cursor at 0x289f2196ec0>"
      ]
     },
     "execution_count": 59,
     "metadata": {},
     "output_type": "execute_result"
    }
   ],
   "source": [
    "conn = sqlite3.connect(\"students.db\")\n",
    "cursor = conn.cursor()\n",
    "\n",
    "# Clearing the db\n",
    "cursor.execute(\"\"\"\n",
    "DROP TABLE IF EXISTS students;\n",
    "\"\"\")\n",
    "cursor.execute(\"\"\"\n",
    "DROP TABLE IF EXISTS logs;\n",
    "\"\"\")"
   ]
  },
  {
   "cell_type": "code",
   "execution_count": 60,
   "id": "bead745d",
   "metadata": {},
   "outputs": [
    {
     "data": {
      "text/plain": [
       "<sqlite3.Cursor at 0x289f2196ec0>"
      ]
     },
     "execution_count": 60,
     "metadata": {},
     "output_type": "execute_result"
    }
   ],
   "source": [
    "# Setting up DB - Create students table\n",
    "cursor.execute(\"\"\"\n",
    "CREATE TABLE IF NOT EXISTS students (\n",
    "    qr_token TEXT PRIMARY KEY,\n",
    "    roll_no TEXT NOT NULL,\n",
    "    name TEXT NOT NULL,\n",
    "    department TEXT NOT NULL,\n",
    "    contact_no VARCHAR(15) NOT NULL,\n",
    "    email_id TEXT NOT NULL,\n",
    "    aadhar_no VARCHAR(12) NOT NULL,\n",
    "    dob DATE NOT NULL,\n",
    "    address TEXT NOT NULL,\n",
    "    bank_account_no TEXT NOT NULL,\n",
    "    bank_ifsc_code TEXT NOT NULL,\n",
    "    embedding1 BLOB,\n",
    "    embedding2 BLOB,\n",
    "    embedding3 BLOB\n",
    ")\n",
    "\"\"\")\n",
    "\n",
    "# Create logs table\n",
    "cursor.execute(\"\"\"\n",
    "CREATE TABLE logs (\n",
    "    id INTEGER PRIMARY KEY AUTOINCREMENT,\n",
    "    qr_token TEXT,\n",
    "    roll_no TEXT,\n",
    "    name TEXT,\n",
    "    timestamp DATETIME DEFAULT CURRENT_TIMESTAMP\n",
    ")\n",
    "\"\"\")"
   ]
  },
  {
   "cell_type": "code",
   "execution_count": null,
   "id": "503fe195",
   "metadata": {},
   "outputs": [],
   "source": [
    "students = [\n",
    "    # roll_no, name, department, contact_no, email_id, aadhar_no, dob, address, bank_account_no, bank_ifsc_code\n",
    "    (\"101\", \"Tushar Sharma\", \"Computer Science\", \"+XXXXXXXXXXXX\", \"tushar.sharma@uni.edu\", \"111122223333\", \"2000-05-15\", \"123 Main St, Anytown\", \"9876543210123456\", \"ICIC0001234\"),\n",
    "    (\"102\", \"Dhairya Patel\", \"Electronics\", \"+XXXXXXXXXXXX\", \"dhairya.patel@uni.edu\", \"444455556666\", \"2001-11-20\", \"456 Oak Ave, Somewhere\", \"1234567890123456\", \"HDFC0005678\"),\n",
    "    (\"103\", \"Debapriya Ghosh\", \"Mechanical Engineering\", \"+XXXXXXXXXXXX\", \"debapriya.ghosh@uni.edu\", \"777788889999\", \"1999-07-25\", \"789 Pine Ln, Elsewhere\", \"5432109876543210\", \"SBIN0009012\"),\n",
    "    (\"104\", \"Archit Verma\", \"Civil Engineering\", \"+XXXXXXXXXXXX\", \"archit.verma@uni.edu\", \"000011112222\", \"2002-03-10\", \"321 Cedar Rd, Nowheres\", \"6789012345678901\", \"AXIS0003456\"),\n",
    "    # (\"105\", \"Riya Singh\", \"Computer Science\", \"8008877665\", \"riya.singh@uni.edu\", \"333344445555\", \"2001-01-01\", \"10 Downing St, London\", \"2109876543210987\", \"KOTK0007890\"),\n",
    "    # (\"106\", \"Sanjay Kumar\", \"Electronics\", \"7997766554\", \"sanjay.kumar@uni.edu\", \"666677778888\", \"2000-12-31\", \"55 Park Ave, New York\", \"8765432109876543\", \"YESB0001122\")\n",
    "]"
   ]
  },
  {
   "cell_type": "code",
   "execution_count": 62,
   "id": "b7ddf01a",
   "metadata": {},
   "outputs": [],
   "source": [
    "def create_entry(student_tuple):\n",
    "    qr_token = secrets.token_hex(16)  # random 128-bit token\n",
    "    conn = sqlite3.connect(\"students.db\")\n",
    "    cursor = conn.cursor()\n",
    "    cursor.execute(\"\"\"\n",
    "    INSERT INTO students (qr_token, roll_no, name, department, contact_no, email_id, aadhar_no, dob, address, bank_account_no, bank_ifsc_code)\n",
    "    VALUES (?, ?, ?, ?, ?, ?, ?, ?, ?, ?, ?)\n",
    "    \"\"\", (qr_token, *student_tuple))\n",
    "    conn.commit()\n",
    "    conn.close()"
   ]
  },
  {
   "cell_type": "code",
   "execution_count": 63,
   "id": "22a1bc32",
   "metadata": {},
   "outputs": [],
   "source": [
    "for student in students:\n",
    "    create_entry(student)"
   ]
  },
  {
   "cell_type": "code",
   "execution_count": 64,
   "id": "8f121bb2",
   "metadata": {},
   "outputs": [],
   "source": [
    "def generate_qrs():\n",
    "    os.makedirs(\"qrcodes\", exist_ok=True)\n",
    "    conn = sqlite3.connect(\"students.db\")\n",
    "    cursor = conn.cursor()\n",
    "    cursor.execute(\"SELECT qr_token, roll_no FROM students\")\n",
    "    rows = cursor.fetchall()\n",
    "    for qr_token, roll_no in rows:\n",
    "        blob = encrypt_token(qr_token)   # encrypt the token\n",
    "        qr = qrcode.make(blob)           # generate QR with encrypted blob\n",
    "        qr.save(f\"qrcodes/{roll_no}.png\")\n",
    "\n",
    "    conn.close()\n",
    "    print(\"Encrypted QR codes saved in 'qrcodes/' folder.\")"
   ]
  },
  {
   "cell_type": "code",
   "execution_count": 65,
   "id": "3e706164",
   "metadata": {},
   "outputs": [
    {
     "name": "stdout",
     "output_type": "stream",
     "text": [
      "Encrypted QR codes saved in 'qrcodes/' folder.\n"
     ]
    }
   ],
   "source": [
    "generate_qrs()"
   ]
  },
  {
   "cell_type": "code",
   "execution_count": null,
   "id": "83293f05",
   "metadata": {},
   "outputs": [],
   "source": [
    "# # Clear logs table\n",
    "\n",
    "# conn = sqlite3.connect(\"students.db\")\n",
    "# cursor = conn.cursor()\n",
    "# cursor.execute(\"\"\"\n",
    "#     DELETE FROM logs\n",
    "# \"\"\")\n",
    "# conn.commit()\n",
    "# conn.close()"
   ]
  },
  {
   "cell_type": "markdown",
   "id": "e339d00d",
   "metadata": {},
   "source": [
    "## Pipeline-2 : Scanning + Decryption + Lookup"
   ]
  },
  {
   "cell_type": "code",
   "execution_count": null,
   "id": "1f0d9b15",
   "metadata": {},
   "outputs": [],
   "source": [
    "# import cv2\n",
    "# from pyzbar.pyzbar import decode"
   ]
  },
  {
   "cell_type": "code",
   "execution_count": null,
   "id": "be482a57",
   "metadata": {},
   "outputs": [],
   "source": [
    "# def decrypt_blob(blob_b64u: str) -> str:\n",
    "#     # restore padding if stripped\n",
    "#     blob_b64u += \"=\" * ((4 - len(blob_b64u) % 4) % 4)\n",
    "#     raw = base64.urlsafe_b64decode(blob_b64u)\n",
    "#     iv, ct = raw[:12], raw[12:]\n",
    "#     aesgcm = AESGCM(KEY)\n",
    "#     qr_token = aesgcm.decrypt(iv, ct, b\"college-qr-v1\").decode()\n",
    "#     return qr_token"
   ]
  },
  {
   "cell_type": "code",
   "execution_count": null,
   "id": "9e05cfaf",
   "metadata": {},
   "outputs": [],
   "source": [
    "# def get_student(qr_token):\n",
    "#     conn = sqlite3.connect(\"students.db\")\n",
    "#     cursor = conn.cursor()\n",
    "#     cursor.execute(\"SELECT roll_no, name FROM students WHERE qr_token=?\", (qr_token,))\n",
    "#     student = cursor.fetchone()\n",
    "#     conn.close()\n",
    "#     return student"
   ]
  },
  {
   "cell_type": "code",
   "execution_count": null,
   "id": "97130f44",
   "metadata": {},
   "outputs": [
    {
     "name": "stdout",
     "output_type": "stream",
     "text": [
      "Hold the QR code in front of the camera...\n",
      "Press 'q' to quit\n",
      "Student not found in database.\n"
     ]
    }
   ],
   "source": [
    "# try:\n",
    "#     cap = cv2.VideoCapture(0)\n",
    "#     if not cap.isOpened():\n",
    "#         raise Exception(\"Could not open camera\")\n",
    "    \n",
    "#     print(\"Hold the QR code in front of the camera...\")\n",
    "#     print(\"Press 'q' to quit\")\n",
    "\n",
    "#     student = None\n",
    "#     found = False\n",
    "\n",
    "#     while True:\n",
    "#         ret, frame = cap.read()\n",
    "#         if not ret:\n",
    "#             break\n",
    "\n",
    "#         for barcode in decode(frame):\n",
    "#             try:\n",
    "#                 blob = barcode.data.decode(\"utf-8\")\n",
    "#                 qr_token = decrypt_blob(blob)\n",
    "#                 student = get_student(qr_token)\n",
    "#                 found = True\n",
    "#                 break\n",
    "#             except:\n",
    "#                 # Silently ignore decryption/lookup errors\n",
    "#                 found = True\n",
    "#                 break\n",
    "\n",
    "#         if found:\n",
    "#             break\n",
    "\n",
    "#         try:\n",
    "#             cv2.imshow(\"QR Scanner\", frame)\n",
    "#             key = cv2.waitKey(1) & 0xFF\n",
    "#             if key == ord('q'):\n",
    "#                 break\n",
    "#         except:\n",
    "#             # Silently ignore display errors\n",
    "#             pass\n",
    "\n",
    "# finally:\n",
    "#     cap.release()\n",
    "#     try:\n",
    "#         cv2.destroyAllWindows()\n",
    "#     except:\n",
    "#         pass\n",
    "\n",
    "#     if student:\n",
    "#         print(f\"Roll No: {student[0]}, Name: {student[1]}\")\n",
    "#     elif not found:\n",
    "#         print(\"No QR detected.\")\n",
    "#     else:\n",
    "#         print(\"Student not found in database.\")\n"
   ]
  }
 ],
 "metadata": {
  "kernelspec": {
   "display_name": "Python 3",
   "language": "python",
   "name": "python3"
  },
  "language_info": {
   "codemirror_mode": {
    "name": "ipython",
    "version": 3
   },
   "file_extension": ".py",
   "mimetype": "text/x-python",
   "name": "python",
   "nbconvert_exporter": "python",
   "pygments_lexer": "ipython3",
   "version": "3.12.4"
  }
 },
 "nbformat": 4,
 "nbformat_minor": 5
}
