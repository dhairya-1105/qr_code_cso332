{
 "cells": [
  {
   "cell_type": "code",
   "execution_count": 8,
   "id": "a32c405c",
   "metadata": {},
   "outputs": [],
   "source": [
    "from huggingface_hub import snapshot_download\n",
    "from insightface.app import FaceAnalysis\n",
    "import numpy as np\n",
    "import cv2\n",
    "import matplotlib.pyplot as plt\n",
    "import sqlite3\n",
    "import os"
   ]
  },
  {
   "cell_type": "code",
   "execution_count": 9,
   "id": "d9db6e3a",
   "metadata": {},
   "outputs": [
    {
     "name": "stderr",
     "output_type": "stream",
     "text": [
      "Returning existing local_dir `models\\auraface` as remote repo cannot be accessed in `snapshot_download` ((ProtocolError('Connection aborted.', RemoteDisconnected('Remote end closed connection without response')), '(Request ID: aa899c7c-3ae9-4498-af78-14d4427da6f6)')).\n"
     ]
    },
    {
     "data": {
      "text/plain": [
       "'C:\\\\Users\\\\dhair\\\\Documents\\\\VS-Code-Practice-Files-main\\\\ubiq_project\\\\models\\\\auraface'"
      ]
     },
     "execution_count": 9,
     "metadata": {},
     "output_type": "execute_result"
    }
   ],
   "source": [
    "snapshot_download(\n",
    "    \"fal/AuraFace-v1\",\n",
    "    local_dir=\"models/auraface\",\n",
    ")"
   ]
  },
  {
   "cell_type": "code",
   "execution_count": 10,
   "id": "614426cd",
   "metadata": {},
   "outputs": [
    {
     "name": "stdout",
     "output_type": "stream",
     "text": [
      "Applied providers: ['CPUExecutionProvider'], with options: {'CPUExecutionProvider': {}}\n",
      "find model: .\\models\\auraface\\1k3d68.onnx landmark_3d_68 ['None', 3, 192, 192] 0.0 1.0\n",
      "Applied providers: ['CPUExecutionProvider'], with options: {'CPUExecutionProvider': {}}\n",
      "find model: .\\models\\auraface\\2d106det.onnx landmark_2d_106 ['None', 3, 192, 192] 0.0 1.0\n",
      "Applied providers: ['CPUExecutionProvider'], with options: {'CPUExecutionProvider': {}}\n",
      "find model: .\\models\\auraface\\genderage.onnx genderage ['None', 3, 96, 96] 0.0 1.0\n",
      "Applied providers: ['CPUExecutionProvider'], with options: {'CPUExecutionProvider': {}}\n",
      "find model: .\\models\\auraface\\glintr100.onnx recognition ['None', 3, 112, 112] 127.5 127.5\n",
      "Applied providers: ['CPUExecutionProvider'], with options: {'CPUExecutionProvider': {}}\n",
      "find model: .\\models\\auraface\\scrfd_10g_bnkps.onnx detection [1, 3, '?', '?'] 127.5 128.0\n",
      "set det-size: (640, 640)\n"
     ]
    }
   ],
   "source": [
    "face_app = FaceAnalysis(\n",
    "    name=\"auraface\",\n",
    "    providers=[\"CUDAExecutionProvider\", \"CPUExecutionProvider\"],\n",
    "    root=\".\",\n",
    ")\n",
    "face_app.prepare(ctx_id=0)"
   ]
  },
  {
   "cell_type": "code",
   "execution_count": 11,
   "id": "9b24103b",
   "metadata": {},
   "outputs": [],
   "source": [
    "def update_student_embeddings(roll_no, folder):\n",
    "    image_files = [os.path.join(folder, f) for f in os.listdir(folder) if f.lower().endswith((\".jpg\",\".png\",\".jpeg\"))]\n",
    "    image_files.sort()\n",
    "\n",
    "    embeddings = []\n",
    "    for img_path in image_files[:3]:\n",
    "        img = cv2.imread(img_path)\n",
    "        if img is None:\n",
    "            continue\n",
    "        img_rgb = cv2.cvtColor(img, cv2.COLOR_BGR2RGB)\n",
    "        faces = face_app.get(img_rgb)\n",
    "        if len(faces) > 0:\n",
    "            emb = faces[0].normed_embedding.astype(np.float32).tobytes()\n",
    "            embeddings.append(emb)\n",
    "\n",
    "    if len(embeddings) < 3:\n",
    "        print(f\" Warning: {roll_no} has only {len(embeddings)} valid embeddings\")\n",
    "        while len(embeddings) < 3:\n",
    "            embeddings.append(None)\n",
    "\n",
    "    conn = sqlite3.connect(\"students.db\")\n",
    "    cursor = conn.cursor()\n",
    "    cursor.execute(\"\"\"\n",
    "        UPDATE students\n",
    "        SET embedding1=?, embedding2=?, embedding3=?\n",
    "        WHERE roll_no=?\n",
    "    \"\"\", (embeddings[0], embeddings[1], embeddings[2], roll_no))\n",
    "    conn.commit()\n",
    "    conn.close()\n",
    "\n",
    "    print(f\" Embeddings updated for Roll No: {roll_no}\")"
   ]
  },
  {
   "cell_type": "code",
   "execution_count": 12,
   "id": "6ff6c63f",
   "metadata": {},
   "outputs": [
    {
     "name": "stdout",
     "output_type": "stream",
     "text": [
      " Embeddings updated for Roll No: 101\n",
      " Embeddings updated for Roll No: 102\n",
      " Embeddings updated for Roll No: 103\n",
      " Embeddings updated for Roll No: 104\n"
     ]
    }
   ],
   "source": [
    "update_student_embeddings(\"101\", \"sample_images/tushar_imgs\")\n",
    "update_student_embeddings(\"102\", \"sample_images/dhairya_imgs\")\n",
    "update_student_embeddings(\"103\", \"sample_images/debo_imgs\")\n",
    "update_student_embeddings(\"104\", \"sample_images/archit_imgs\")"
   ]
  }
 ],
 "metadata": {
  "kernelspec": {
   "display_name": "Python 3",
   "language": "python",
   "name": "python3"
  },
  "language_info": {
   "codemirror_mode": {
    "name": "ipython",
    "version": 3
   },
   "file_extension": ".py",
   "mimetype": "text/x-python",
   "name": "python",
   "nbconvert_exporter": "python",
   "pygments_lexer": "ipython3",
   "version": "3.12.4"
  }
 },
 "nbformat": 4,
 "nbformat_minor": 5
}
